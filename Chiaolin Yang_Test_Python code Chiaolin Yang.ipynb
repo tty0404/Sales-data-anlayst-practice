{
 "cells": [
  {
   "cell_type": "code",
   "execution_count": 1,
   "metadata": {},
   "outputs": [
    {
     "name": "stderr",
     "output_type": "stream",
     "text": [
      "/var/folders/s4/gkgb_yx16d7f_nl9171_5vb40000gn/T/ipykernel_4779/4037983478.py:2: DeprecationWarning: \n",
      "Pyarrow will become a required dependency of pandas in the next major release of pandas (pandas 3.0),\n",
      "(to allow more performant data types, such as the Arrow string type, and better interoperability with other libraries)\n",
      "but was not found to be installed on your system.\n",
      "If this would cause problems for you,\n",
      "please provide us feedback at https://github.com/pandas-dev/pandas/issues/54466\n",
      "        \n",
      "  import pandas as pd\n"
     ]
    }
   ],
   "source": [
    "# import libaries\n",
    "import pandas as pd\n",
    "import matplotlib.pyplot as plt\n",
    "import seaborn as sns"
   ]
  },
  {
   "cell_type": "code",
   "execution_count": 2,
   "metadata": {},
   "outputs": [
    {
     "data": {
      "text/html": [
       "<div>\n",
       "<style scoped>\n",
       "    .dataframe tbody tr th:only-of-type {\n",
       "        vertical-align: middle;\n",
       "    }\n",
       "\n",
       "    .dataframe tbody tr th {\n",
       "        vertical-align: top;\n",
       "    }\n",
       "\n",
       "    .dataframe thead th {\n",
       "        text-align: right;\n",
       "    }\n",
       "</style>\n",
       "<table border=\"1\" class=\"dataframe\">\n",
       "  <thead>\n",
       "    <tr style=\"text-align: right;\">\n",
       "      <th></th>\n",
       "      <th>PROVNAME</th>\n",
       "      <th>CITY</th>\n",
       "      <th>STATE</th>\n",
       "      <th>COUNTY_NAME</th>\n",
       "      <th>COUNTY_FIPS</th>\n",
       "      <th>WorkDate</th>\n",
       "      <th>MDScensus</th>\n",
       "      <th>Hrs_RNDON</th>\n",
       "      <th>Hrs_RNDON_emp</th>\n",
       "      <th>Hrs_RNDON_ctr</th>\n",
       "      <th>...</th>\n",
       "      <th>Hrs_LPN_ctr</th>\n",
       "      <th>Hrs_CNA</th>\n",
       "      <th>Hrs_CNA_emp</th>\n",
       "      <th>Hrs_CNA_ctr</th>\n",
       "      <th>Hrs_NAtrn</th>\n",
       "      <th>Hrs_NAtrn_emp</th>\n",
       "      <th>Hrs_NAtrn_ctr</th>\n",
       "      <th>Hrs_MedAide</th>\n",
       "      <th>Hrs_MedAide_emp</th>\n",
       "      <th>Hrs_MedAide_ctr</th>\n",
       "    </tr>\n",
       "  </thead>\n",
       "  <tbody>\n",
       "    <tr>\n",
       "      <th>0</th>\n",
       "      <td>STELLA MARIS, INC.</td>\n",
       "      <td>TIMONIUM</td>\n",
       "      <td>MD</td>\n",
       "      <td>Baltimore</td>\n",
       "      <td>5</td>\n",
       "      <td>20240329</td>\n",
       "      <td>343</td>\n",
       "      <td>8.0</td>\n",
       "      <td>8.0</td>\n",
       "      <td>0.0</td>\n",
       "      <td>...</td>\n",
       "      <td>41.50</td>\n",
       "      <td>744.75</td>\n",
       "      <td>487.75</td>\n",
       "      <td>257.00</td>\n",
       "      <td>61.00</td>\n",
       "      <td>61.00</td>\n",
       "      <td>0.0</td>\n",
       "      <td>88.75</td>\n",
       "      <td>88.75</td>\n",
       "      <td>0.0</td>\n",
       "    </tr>\n",
       "    <tr>\n",
       "      <th>1</th>\n",
       "      <td>STELLA MARIS, INC.</td>\n",
       "      <td>TIMONIUM</td>\n",
       "      <td>MD</td>\n",
       "      <td>Baltimore</td>\n",
       "      <td>5</td>\n",
       "      <td>20240328</td>\n",
       "      <td>340</td>\n",
       "      <td>8.0</td>\n",
       "      <td>8.0</td>\n",
       "      <td>0.0</td>\n",
       "      <td>...</td>\n",
       "      <td>49.50</td>\n",
       "      <td>757.75</td>\n",
       "      <td>494.50</td>\n",
       "      <td>263.25</td>\n",
       "      <td>56.75</td>\n",
       "      <td>56.75</td>\n",
       "      <td>0.0</td>\n",
       "      <td>85.00</td>\n",
       "      <td>85.00</td>\n",
       "      <td>0.0</td>\n",
       "    </tr>\n",
       "    <tr>\n",
       "      <th>2</th>\n",
       "      <td>STELLA MARIS, INC.</td>\n",
       "      <td>TIMONIUM</td>\n",
       "      <td>MD</td>\n",
       "      <td>Baltimore</td>\n",
       "      <td>5</td>\n",
       "      <td>20240326</td>\n",
       "      <td>336</td>\n",
       "      <td>8.0</td>\n",
       "      <td>8.0</td>\n",
       "      <td>0.0</td>\n",
       "      <td>...</td>\n",
       "      <td>12.75</td>\n",
       "      <td>763.50</td>\n",
       "      <td>532.75</td>\n",
       "      <td>230.75</td>\n",
       "      <td>54.00</td>\n",
       "      <td>54.00</td>\n",
       "      <td>0.0</td>\n",
       "      <td>98.00</td>\n",
       "      <td>98.00</td>\n",
       "      <td>0.0</td>\n",
       "    </tr>\n",
       "  </tbody>\n",
       "</table>\n",
       "<p>3 rows × 31 columns</p>\n",
       "</div>"
      ],
      "text/plain": [
       "             PROVNAME      CITY STATE COUNTY_NAME  COUNTY_FIPS  WorkDate  \\\n",
       "0  STELLA MARIS, INC.  TIMONIUM    MD   Baltimore            5  20240329   \n",
       "1  STELLA MARIS, INC.  TIMONIUM    MD   Baltimore            5  20240328   \n",
       "2  STELLA MARIS, INC.  TIMONIUM    MD   Baltimore            5  20240326   \n",
       "\n",
       "   MDScensus  Hrs_RNDON  Hrs_RNDON_emp  Hrs_RNDON_ctr  ...  Hrs_LPN_ctr  \\\n",
       "0        343        8.0            8.0            0.0  ...        41.50   \n",
       "1        340        8.0            8.0            0.0  ...        49.50   \n",
       "2        336        8.0            8.0            0.0  ...        12.75   \n",
       "\n",
       "   Hrs_CNA  Hrs_CNA_emp  Hrs_CNA_ctr  Hrs_NAtrn  Hrs_NAtrn_emp  Hrs_NAtrn_ctr  \\\n",
       "0   744.75       487.75       257.00      61.00          61.00            0.0   \n",
       "1   757.75       494.50       263.25      56.75          56.75            0.0   \n",
       "2   763.50       532.75       230.75      54.00          54.00            0.0   \n",
       "\n",
       "   Hrs_MedAide  Hrs_MedAide_emp  Hrs_MedAide_ctr  \n",
       "0        88.75            88.75              0.0  \n",
       "1        85.00            85.00              0.0  \n",
       "2        98.00            98.00              0.0  \n",
       "\n",
       "[3 rows x 31 columns]"
      ]
     },
     "execution_count": 2,
     "metadata": {},
     "output_type": "execute_result"
    }
   ],
   "source": [
    "# import main db, and show the first 3 rows.\n",
    "# the database has been fliter on the website (excluded those location without full time workhour's/error record)\n",
    "path1 = '/Users/tantuyu/Documents/selflearning /analysis case/Fliter_PBJ_Daily_Nurse_Staffing_Q1_2024.csv'\n",
    "df = pd.read_csv(path1, encoding='latin-1') \n",
    "# after the utf-8 not working, I tried the next most likely option, 'latin-1' and it works\n",
    "df.head(3)"
   ]
  },
  {
   "cell_type": "code",
   "execution_count": 7,
   "metadata": {},
   "outputs": [
    {
     "data": {
      "text/plain": [
       "Hrs_CNA_ctr         187518.03\n",
       "Hrs_LPN_ctr         106436.27\n",
       "Hrs_RN_ctr           43989.05\n",
       "Hrs_RNadmin_ctr      12223.54\n",
       "Hrs_MedAide_ctr      11024.24\n",
       "Hrs_RNDON_ctr         2863.03\n",
       "Hrs_LPNadmin_ctr      1339.69\n",
       "Hrs_NAtrn_ctr          772.10\n",
       "dtype: float64"
      ]
     },
     "execution_count": 7,
     "metadata": {},
     "output_type": "execute_result"
    }
   ],
   "source": [
    "df_temp=df[['Hrs_RNDON_ctr','Hrs_RNadmin_ctr','Hrs_RN_ctr','Hrs_LPNadmin_ctr','Hrs_LPN_ctr','Hrs_CNA_ctr','Hrs_NAtrn_ctr','Hrs_MedAide_ctr']]\n",
    "df_temp_sum = df[['Hrs_RNDON_ctr','Hrs_RNadmin_ctr','Hrs_RN_ctr','Hrs_LPNadmin_ctr','Hrs_LPN_ctr','Hrs_CNA_ctr','Hrs_NAtrn_ctr','Hrs_MedAide_ctr']].sum()\n",
    "count_sum = df_temp_sum.sort_values(ascending=False)\n",
    "count_sum\n",
    "# As the result we can see that the most work hours on contractor is CNA (certufued Nursing Assitant)\n",
    "# Follow by LPN (Licensed Pratical Nurse)"
   ]
  },
  {
   "cell_type": "code",
   "execution_count": 4,
   "metadata": {},
   "outputs": [
    {
     "data": {
      "text/plain": [
       "([0, 1, 2, 3, 4, 5, 6, 7, 8, 9],\n",
       " [Text(0, 0, 'MO'),\n",
       "  Text(1, 0, 'IN'),\n",
       "  Text(2, 0, 'NH'),\n",
       "  Text(3, 0, 'OR'),\n",
       "  Text(4, 0, 'TX'),\n",
       "  Text(5, 0, 'KY'),\n",
       "  Text(6, 0, 'MD'),\n",
       "  Text(7, 0, 'OH'),\n",
       "  Text(8, 0, 'MN'),\n",
       "  Text(9, 0, 'NM')])"
      ]
     },
     "execution_count": 4,
     "metadata": {},
     "output_type": "execute_result"
    },
    {
     "data": {
      "image/png": "[encoded data removed]",
      "text/plain": [
       "<Figure size 640x480 with 1 Axes>"
      ]
     },
     "metadata": {},
     "output_type": "display_data"
    }
   ],
   "source": [
    "# find out which state have the highest work hours\n",
    "temp=['Hrs_RNDON_ctr','Hrs_RNadmin_ctr','Hrs_RN_ctr','Hrs_LPNadmin_ctr','Hrs_LPN_ctr','Hrs_CNA_ctr','Hrs_NAtrn_ctr','Hrs_MedAide_ctr']\n",
    "df['tot_temp_hours'] = df[temp].sum(axis=1)\n",
    "states_tot = df.groupby('STATE')[['tot_temp_hours']].sum()\n",
    "states_tot = states_tot.sort_values(by='tot_temp_hours',ascending=False).head(10) # narrow down to 10 states for better performance\n",
    "\n",
    "sns.barplot(data=states_tot, x='STATE',y='tot_temp_hours')\n",
    "plt.xticks(rotation=45)"
   ]
  },
  {
   "cell_type": "code",
   "execution_count": 8,
   "metadata": {},
   "outputs": [
    {
     "data": {
      "text/plain": [
       "(-1.099999024743626,\n",
       " 1.0999999468508685,\n",
       " -1.099999778321763,\n",
       " 1.0999999894438934)"
      ]
     },
     "execution_count": 8,
     "metadata": {},
     "output_type": "execute_result"
    },
    {
     "data": {
      "image/png": "[encoded data removed]",
      "text/plain": [
       "<Figure size 640x480 with 1 Axes>"
      ]
     },
     "metadata": {},
     "output_type": "display_data"
    }
   ],
   "source": [
    "# perform a pie chart for better understanding\n",
    "\n",
    "# since the smaller ratio will be unreadable, we should filter it out first\n",
    "def fli_format(pct):\n",
    "    return('%1.1f%%' %pct) if pct >5 else ''\n",
    "\n",
    "# syntax for pie chart\n",
    "plt.pie(states_tot['tot_temp_hours'],autopct=fli_format, startangle=90)\n",
    "plt.legend(labels=df[temp], loc= 'upper right', bbox_to_anchor=(1.23,0.5))\n",
    "\n",
    "# ensure it stays as circle\n",
    "plt.axis('equal')"
   ]
  },
  {
   "cell_type": "code",
   "execution_count": 6,
   "metadata": {},
   "outputs": [
    {
     "name": "stderr",
     "output_type": "stream",
     "text": [
      "/var/folders/s4/gkgb_yx16d7f_nl9171_5vb40000gn/T/ipykernel_17596/930644756.py:3: DtypeWarning: Columns (0) have mixed types. Specify dtype option on import or set low_memory=False.\n",
      "  sn_df = pd.read_csv('/Users/tantuyu/Documents/selflearning /analysis case/Skilled_Nursing_Facility_Quality_Reporting_Program_Provider_Data_Aug2024.csv')\n"
     ]
    }
   ],
   "source": [
    "# load provider information and Skilled nuring facility quality\n",
    "pi_df = pd.read_csv('/Users/tantuyu/Documents/selflearning /analysis case/NH_ProviderInfo_Aug2024.csv')\n",
    "sn_df = pd.read_csv('/Users/tantuyu/Documents/selflearning /analysis case/Skilled_Nursing_Facility_Quality_Reporting_Program_Provider_Data_Aug2024.csv')"
   ]
  },
  {
   "cell_type": "code",
   "execution_count": 182,
   "metadata": {},
   "outputs": [
    {
     "data": {
      "text/plain": [
       "(array([ 0,  1,  2,  3,  4,  5,  6,  7,  8,  9, 10, 11, 12]),\n",
       " [Text(0, 0, 'For profit - Corporation'),\n",
       "  Text(1, 0, 'For profit - Individual'),\n",
       "  Text(2, 0, 'For profit - Limited Liability company'),\n",
       "  Text(3, 0, 'For profit - Partnership'),\n",
       "  Text(4, 0, 'Government - City'),\n",
       "  Text(5, 0, 'Government - City/county'),\n",
       "  Text(6, 0, 'Government - County'),\n",
       "  Text(7, 0, 'Government - Federal'),\n",
       "  Text(8, 0, 'Government - Hospital district'),\n",
       "  Text(9, 0, 'Government - State'),\n",
       "  Text(10, 0, 'Non profit - Church related'),\n",
       "  Text(11, 0, 'Non profit - Corporation'),\n",
       "  Text(12, 0, 'Non profit - Other')])"
      ]
     },
     "execution_count": 182,
     "metadata": {},
     "output_type": "execute_result"
    },
    {
     "data": {
      "image/png": "[encoded data removed]",
      "text/plain": [
       "<Figure size 1000x600 with 1 Axes>"
      ]
     },
     "metadata": {},
     "output_type": "display_data"
    }
   ],
   "source": [
    "Top_10 = ['MO', 'IN', 'NH', 'OR', 'TX', 'KY', 'MD', 'OH', 'MN', 'NM'] # top 10 states\n",
    "fliter_pi_df = pi_df[pi_df['State'].isin(['IN','MO','NM','TX','OH','NH','MD'])] # narrow down to 10 states for better performance\n",
    "\n",
    "# creating a stacked bar chart\n",
    "ow_count=fliter_pi_df.groupby(['Ownership Type','State']).size().unstack(fill_value=0) \n",
    "ax=ow_count.plot(kind='bar',stacked=True,figsize=(10,6))\n",
    "\n",
    "\n",
    "# add an center label for readablility\n",
    "for p in ax.patches:\n",
    "    height = p.get_height()\n",
    "    if height > 100:  # flitering out the none/small valuer\n",
    "        ax.text(p.get_x() + p.get_width()/2., p.get_y() +height /2.,\n",
    "                f'{int(height)}', ha='center', va='center', color='white', fontsize=12)\n",
    "        # get_x : center the label text\n",
    "        # get_y : center the label text to the middle of each bar\n",
    "        \n",
    "plt.ylabel('Count of Ownership Type')\n",
    "plt.xticks(rotation=84)\n"
   ]
  },
  {
   "cell_type": "code",
   "execution_count": 189,
   "metadata": {},
   "outputs": [
    {
     "name": "stderr",
     "output_type": "stream",
     "text": [
      "/var/folders/s4/gkgb_yx16d7f_nl9171_5vb40000gn/T/ipykernel_17596/3154773702.py:5: SettingWithCopyWarning:\n",
      "\n",
      "\n",
      "A value is trying to be set on a copy of a slice from a DataFrame.\n",
      "Try using .loc[row_indexer,col_indexer] = value instead\n",
      "\n",
      "See the caveats in the documentation: https://pandas.pydata.org/pandas-docs/stable/user_guide/indexing.html#returning-a-view-versus-a-copy\n",
      "\n"
     ]
    },
    {
     "data": {
      "text/html": [
       "<div>\n",
       "<style scoped>\n",
       "    .dataframe tbody tr th:only-of-type {\n",
       "        vertical-align: middle;\n",
       "    }\n",
       "\n",
       "    .dataframe tbody tr th {\n",
       "        vertical-align: top;\n",
       "    }\n",
       "\n",
       "    .dataframe thead th {\n",
       "        text-align: right;\n",
       "    }\n",
       "</style>\n",
       "<table border=\"1\" class=\"dataframe\">\n",
       "  <thead>\n",
       "    <tr style=\"text-align: right;\">\n",
       "      <th></th>\n",
       "      <th>Score</th>\n",
       "    </tr>\n",
       "    <tr>\n",
       "      <th>State</th>\n",
       "      <th></th>\n",
       "    </tr>\n",
       "  </thead>\n",
       "  <tbody>\n",
       "    <tr>\n",
       "      <th>MD</th>\n",
       "      <td>86.206984</td>\n",
       "    </tr>\n",
       "    <tr>\n",
       "      <th>NH</th>\n",
       "      <td>56.574700</td>\n",
       "    </tr>\n",
       "    <tr>\n",
       "      <th>NM</th>\n",
       "      <td>53.109987</td>\n",
       "    </tr>\n",
       "    <tr>\n",
       "      <th>MN</th>\n",
       "      <td>47.149514</td>\n",
       "    </tr>\n",
       "    <tr>\n",
       "      <th>IN</th>\n",
       "      <td>47.087695</td>\n",
       "    </tr>\n",
       "    <tr>\n",
       "      <th>KY</th>\n",
       "      <td>47.027780</td>\n",
       "    </tr>\n",
       "    <tr>\n",
       "      <th>OR</th>\n",
       "      <td>45.830773</td>\n",
       "    </tr>\n",
       "    <tr>\n",
       "      <th>TX</th>\n",
       "      <td>44.566356</td>\n",
       "    </tr>\n",
       "    <tr>\n",
       "      <th>OH</th>\n",
       "      <td>43.764943</td>\n",
       "    </tr>\n",
       "    <tr>\n",
       "      <th>MO</th>\n",
       "      <td>41.670565</td>\n",
       "    </tr>\n",
       "  </tbody>\n",
       "</table>\n",
       "</div>"
      ],
      "text/plain": [
       "           Score\n",
       "State           \n",
       "MD     86.206984\n",
       "NH     56.574700\n",
       "NM     53.109987\n",
       "MN     47.149514\n",
       "IN     47.087695\n",
       "KY     47.027780\n",
       "OR     45.830773\n",
       "TX     44.566356\n",
       "OH     43.764943\n",
       "MO     41.670565"
      ]
     },
     "execution_count": 189,
     "metadata": {},
     "output_type": "execute_result"
    }
   ],
   "source": [
    "# calculate the average score in each top 10 state from the skilled nurse db\n",
    "fliter_sn= sn_df[sn_df['State'].isin(Top_10)] # narrow down to top 10 states for better performance\n",
    "\n",
    "# flitter out the string statements and the errors\n",
    "fliter_sn['Score']=pd.to_numeric(sn_df['Score'], errors='coerce') \n",
    "fliter_sn=fliter_sn.dropna(subset=['Score']) \n",
    "\n",
    "# order by score value\n",
    "fliter_sn.groupby('State')[['Score']].mean().sort_values(by='Score',ascending=False)\n"
   ]
  },
  {
   "cell_type": "code",
   "execution_count": 153,
   "metadata": {},
   "outputs": [
    {
     "data": {
      "application/vnd.plotly.v1+json": {
       "config": {
        "plotlyServerURL": "https://plot.ly"
       },
       "data": [
        {
         "coloraxis": "coloraxis",
         "geo": "geo",
         "hovertemplate": "<b>%{hovertext}</b><br><br>State=%{location}<br>CMS Certification Number (CCN)=%{z}<extra></extra>",
         "hovertext": [
          "TX",
          "OH",
          "IN",
          "MO",
          "MN",
          "KY",
          "MD",
          "OR",
          "NH",
          "NM"
         ],
         "locationmode": "USA-states",
         "locations": [
          "TX",
          "OH",
          "IN",
          "MO",
          "MN",
          "KY",
          "MD",
          "OR",
          "NH",
          "NM"
         ],
         "name": "",
         "type": "choropleth",
         "z": [
          1162,
          929,
          508,
          481,
          335,
          268,
          220,
          119,
          70,
          65
         ]
        }
       ],
       "layout": {
        "coloraxis": {
         "colorbar": {
          "len": 0.5,
          "thickness": 12,
          "title": {
           "text": "CCN Number"
          },
          "x": 1.05,
          "xanchor": "left",
          "y": 0.85,
          "yanchor": "top"
         },
         "colorscale": [
          [
           0,
           "rgb(254, 245, 244)"
          ],
          [
           0.09090909090909091,
           "rgb(222, 224, 210)"
          ],
          [
           0.18181818181818182,
           "rgb(189, 206, 181)"
          ],
          [
           0.2727272727272727,
           "rgb(153, 189, 156)"
          ],
          [
           0.36363636363636365,
           "rgb(110, 173, 138)"
          ],
          [
           0.45454545454545453,
           "rgb(65, 157, 129)"
          ],
          [
           0.5454545454545454,
           "rgb(25, 137, 125)"
          ],
          [
           0.6363636363636364,
           "rgb(18, 116, 117)"
          ],
          [
           0.7272727272727273,
           "rgb(25, 94, 106)"
          ],
          [
           0.8181818181818182,
           "rgb(28, 72, 93)"
          ],
          [
           0.9090909090909091,
           "rgb(25, 51, 80)"
          ],
          [
           1,
           "rgb(20, 29, 67)"
          ]
         ]
        },
        "geo": {
         "center": {},
         "domain": {
          "x": [
           0,
           1
          ],
          "y": [
           0,
           1
          ]
         },
         "scope": "usa"
        },
        "legend": {
         "tracegroupgap": 0
        },
        "margin": {
         "t": 60
        },
        "template": {
         "data": {
          "bar": [
           {
            "error_x": {
             "color": "#2a3f5f"
            },
            "error_y": {
             "color": "#2a3f5f"
            },
            "marker": {
             "line": {
              "color": "#E5ECF6",
              "width": 0.5
             },
             "pattern": {
              "fillmode": "overlay",
              "size": 10,
              "solidity": 0.2
             }
            },
            "type": "bar"
           }
          ],
          "barpolar": [
           {
            "marker": {
             "line": {
              "color": "#E5ECF6",
              "width": 0.5
             },
             "pattern": {
              "fillmode": "overlay",
              "size": 10,
              "solidity": 0.2
             }
            },
            "type": "barpolar"
           }
          ],
          "carpet": [
           {
            "aaxis": {
             "endlinecolor": "#2a3f5f",
             "gridcolor": "white",
             "linecolor": "white",
             "minorgridcolor": "white",
             "startlinecolor": "#2a3f5f"
            },
            "baxis": {
             "endlinecolor": "#2a3f5f",
             "gridcolor": "white",
             "linecolor": "white",
             "minorgridcolor": "white",
             "startlinecolor": "#2a3f5f"
            },
            "type": "carpet"
           }
          ],
          "choropleth": [
           {
            "colorbar": {
             "outlinewidth": 0,
             "ticks": ""
            },
            "type": "choropleth"
           }
          ],
          "contour": [
           {
            "colorbar": {
             "outlinewidth": 0,
             "ticks": ""
            },
            "colorscale": [
             [
              0,
              "#0d0887"
             ],
             [
              0.1111111111111111,
              "#46039f"
             ],
             [
              0.2222222222222222,
              "#7201a8"
             ],
             [
              0.3333333333333333,
              "#9c179e"
             ],
             [
              0.4444444444444444,
              "#bd3786"
             ],
             [
              0.5555555555555556,
              "#d8576b"
             ],
             [
              0.6666666666666666,
              "#ed7953"
             ],
             [
              0.7777777777777778,
              "#fb9f3a"
             ],
             [
              0.8888888888888888,
              "#fdca26"
             ],
             [
              1,
              "#f0f921"
             ]
            ],
            "type": "contour"
           }
          ],
          "contourcarpet": [
           {
            "colorbar": {
             "outlinewidth": 0,
             "ticks": ""
            },
            "type": "contourcarpet"
           }
          ],
          "heatmap": [
           {
            "colorbar": {
             "outlinewidth": 0,
             "ticks": ""
            },
            "colorscale": [
             [
              0,
              "#0d0887"
             ],
             [
              0.1111111111111111,
              "#46039f"
             ],
             [
              0.2222222222222222,
              "#7201a8"
             ],
             [
              0.3333333333333333,
              "#9c179e"
             ],
             [
              0.4444444444444444,
              "#bd3786"
             ],
             [
              0.5555555555555556,
              "#d8576b"
             ],
             [
              0.6666666666666666,
              "#ed7953"
             ],
             [
              0.7777777777777778,
              "#fb9f3a"
             ],
             [
              0.8888888888888888,
              "#fdca26"
             ],
             [
              1,
              "#f0f921"
             ]
            ],
            "type": "heatmap"
           }
          ],
          "heatmapgl": [
           {
            "colorbar": {
             "outlinewidth": 0,
             "ticks": ""
            },
            "colorscale": [
             [
              0,
              "#0d0887"
             ],
             [
              0.1111111111111111,
              "#46039f"
             ],
             [
              0.2222222222222222,
              "#7201a8"
             ],
             [
              0.3333333333333333,
              "#9c179e"
             ],
             [
              0.4444444444444444,
              "#bd3786"
             ],
             [
              0.5555555555555556,
              "#d8576b"
             ],
             [
              0.6666666666666666,
              "#ed7953"
             ],
             [
              0.7777777777777778,
              "#fb9f3a"
             ],
             [
              0.8888888888888888,
              "#fdca26"
             ],
             [
              1,
              "#f0f921"
             ]
            ],
            "type": "heatmapgl"
           }
          ],
          "histogram": [
           {
            "marker": {
             "pattern": {
              "fillmode": "overlay",
              "size": 10,
              "solidity": 0.2
             }
            },
            "type": "histogram"
           }
          ],
          "histogram2d": [
           {
            "colorbar": {
             "outlinewidth": 0,
             "ticks": ""
            },
            "colorscale": [
             [
              0,
              "#0d0887"
             ],
             [
              0.1111111111111111,
              "#46039f"
             ],
             [
              0.2222222222222222,
              "#7201a8"
             ],
             [
              0.3333333333333333,
              "#9c179e"
             ],
             [
              0.4444444444444444,
              "#bd3786"
             ],
             [
              0.5555555555555556,
              "#d8576b"
             ],
             [
              0.6666666666666666,
              "#ed7953"
             ],
             [
              0.7777777777777778,
              "#fb9f3a"
             ],
             [
              0.8888888888888888,
              "#fdca26"
             ],
             [
              1,
              "#f0f921"
             ]
            ],
            "type": "histogram2d"
           }
          ],
          "histogram2dcontour": [
           {
            "colorbar": {
             "outlinewidth": 0,
             "ticks": ""
            },
            "colorscale": [
             [
              0,
              "#0d0887"
             ],
             [
              0.1111111111111111,
              "#46039f"
             ],
             [
              0.2222222222222222,
              "#7201a8"
             ],
             [
              0.3333333333333333,
              "#9c179e"
             ],
             [
              0.4444444444444444,
              "#bd3786"
             ],
             [
              0.5555555555555556,
              "#d8576b"
             ],
             [
              0.6666666666666666,
              "#ed7953"
             ],
             [
              0.7777777777777778,
              "#fb9f3a"
             ],
             [
              0.8888888888888888,
              "#fdca26"
             ],
             [
              1,
              "#f0f921"
             ]
            ],
            "type": "histogram2dcontour"
           }
          ],
          "mesh3d": [
           {
            "colorbar": {
             "outlinewidth": 0,
             "ticks": ""
            },
            "type": "mesh3d"
           }
          ],
          "parcoords": [
           {
            "line": {
             "colorbar": {
              "outlinewidth": 0,
              "ticks": ""
             }
            },
            "type": "parcoords"
           }
          ],
          "pie": [
           {
            "automargin": true,
            "type": "pie"
           }
          ],
          "scatter": [
           {
            "fillpattern": {
             "fillmode": "overlay",
             "size": 10,
             "solidity": 0.2
            },
            "type": "scatter"
           }
          ],
          "scatter3d": [
           {
            "line": {
             "colorbar": {
              "outlinewidth": 0,
              "ticks": ""
             }
            },
            "marker": {
             "colorbar": {
              "outlinewidth": 0,
              "ticks": ""
             }
            },
            "type": "scatter3d"
           }
          ],
          "scattercarpet": [
           {
            "marker": {
             "colorbar": {
              "outlinewidth": 0,
              "ticks": ""
             }
            },
            "type": "scattercarpet"
           }
          ],
          "scattergeo": [
           {
            "marker": {
             "colorbar": {
              "outlinewidth": 0,
              "ticks": ""
             }
            },
            "type": "scattergeo"
           }
          ],
          "scattergl": [
           {
            "marker": {
             "colorbar": {
              "outlinewidth": 0,
              "ticks": ""
             }
            },
            "type": "scattergl"
           }
          ],
          "scattermapbox": [
           {
            "marker": {
             "colorbar": {
              "outlinewidth": 0,
              "ticks": ""
             }
            },
            "type": "scattermapbox"
           }
          ],
          "scatterpolar": [
           {
            "marker": {
             "colorbar": {
              "outlinewidth": 0,
              "ticks": ""
             }
            },
            "type": "scatterpolar"
           }
          ],
          "scatterpolargl": [
           {
            "marker": {
             "colorbar": {
              "outlinewidth": 0,
              "ticks": ""
             }
            },
            "type": "scatterpolargl"
           }
          ],
          "scatterternary": [
           {
            "marker": {
             "colorbar": {
              "outlinewidth": 0,
              "ticks": ""
             }
            },
            "type": "scatterternary"
           }
          ],
          "surface": [
           {
            "colorbar": {
             "outlinewidth": 0,
             "ticks": ""
            },
            "colorscale": [
             [
              0,
              "#0d0887"
             ],
             [
              0.1111111111111111,
              "#46039f"
             ],
             [
              0.2222222222222222,
              "#7201a8"
             ],
             [
              0.3333333333333333,
              "#9c179e"
             ],
             [
              0.4444444444444444,
              "#bd3786"
             ],
             [
              0.5555555555555556,
              "#d8576b"
             ],
             [
              0.6666666666666666,
              "#ed7953"
             ],
             [
              0.7777777777777778,
              "#fb9f3a"
             ],
             [
              0.8888888888888888,
              "#fdca26"
             ],
             [
              1,
              "#f0f921"
             ]
            ],
            "type": "surface"
           }
          ],
          "table": [
           {
            "cells": {
             "fill": {
              "color": "#EBF0F8"
             },
             "line": {
              "color": "white"
             }
            },
            "header": {
             "fill": {
              "color": "#C8D4E3"
             },
             "line": {
              "color": "white"
             }
            },
            "type": "table"
           }
          ]
         },
         "layout": {
          "annotationdefaults": {
           "arrowcolor": "#2a3f5f",
           "arrowhead": 0,
           "arrowwidth": 1
          },
          "autotypenumbers": "strict",
          "coloraxis": {
           "colorbar": {
            "outlinewidth": 0,
            "ticks": ""
           }
          },
          "colorscale": {
           "diverging": [
            [
             0,
             "#8e0152"
            ],
            [
             0.1,
             "#c51b7d"
            ],
            [
             0.2,
             "#de77ae"
            ],
            [
             0.3,
             "#f1b6da"
            ],
            [
             0.4,
             "#fde0ef"
            ],
            [
             0.5,
             "#f7f7f7"
            ],
            [
             0.6,
             "#e6f5d0"
            ],
            [
             0.7,
             "#b8e186"
            ],
            [
             0.8,
             "#7fbc41"
            ],
            [
             0.9,
             "#4d9221"
            ],
            [
             1,
             "#276419"
            ]
           ],
           "sequential": [
            [
             0,
             "#0d0887"
            ],
            [
             0.1111111111111111,
             "#46039f"
            ],
            [
             0.2222222222222222,
             "#7201a8"
            ],
            [
             0.3333333333333333,
             "#9c179e"
            ],
            [
             0.4444444444444444,
             "#bd3786"
            ],
            [
             0.5555555555555556,
             "#d8576b"
            ],
            [
             0.6666666666666666,
             "#ed7953"
            ],
            [
             0.7777777777777778,
             "#fb9f3a"
            ],
            [
             0.8888888888888888,
             "#fdca26"
            ],
            [
             1,
             "#f0f921"
            ]
           ],
           "sequentialminus": [
            [
             0,
             "#0d0887"
            ],
            [
             0.1111111111111111,
             "#46039f"
            ],
            [
             0.2222222222222222,
             "#7201a8"
            ],
            [
             0.3333333333333333,
             "#9c179e"
            ],
            [
             0.4444444444444444,
             "#bd3786"
            ],
            [
             0.5555555555555556,
             "#d8576b"
            ],
            [
             0.6666666666666666,
             "#ed7953"
            ],
            [
             0.7777777777777778,
             "#fb9f3a"
            ],
            [
             0.8888888888888888,
             "#fdca26"
            ],
            [
             1,
             "#f0f921"
            ]
           ]
          },
          "colorway": [
           "#636efa",
           "#EF553B",
           "#00cc96",
           "#ab63fa",
           "#FFA15A",
           "#19d3f3",
           "#FF6692",
           "#B6E880",
           "#FF97FF",
           "#FECB52"
          ],
          "font": {
           "color": "#2a3f5f"
          },
          "geo": {
           "bgcolor": "white",
           "lakecolor": "white",
           "landcolor": "#E5ECF6",
           "showlakes": true,
           "showland": true,
           "subunitcolor": "white"
          },
          "hoverlabel": {
           "align": "left"
          },
          "hovermode": "closest",
          "mapbox": {
           "style": "light"
          },
          "paper_bgcolor": "white",
          "plot_bgcolor": "#E5ECF6",
          "polar": {
           "angularaxis": {
            "gridcolor": "white",
            "linecolor": "white",
            "ticks": ""
           },
           "bgcolor": "#E5ECF6",
           "radialaxis": {
            "gridcolor": "white",
            "linecolor": "white",
            "ticks": ""
           }
          },
          "scene": {
           "xaxis": {
            "backgroundcolor": "#E5ECF6",
            "gridcolor": "white",
            "gridwidth": 2,
            "linecolor": "white",
            "showbackground": true,
            "ticks": "",
            "zerolinecolor": "white"
           },
           "yaxis": {
            "backgroundcolor": "#E5ECF6",
            "gridcolor": "white",
            "gridwidth": 2,
            "linecolor": "white",
            "showbackground": true,
            "ticks": "",
            "zerolinecolor": "white"
           },
           "zaxis": {
            "backgroundcolor": "#E5ECF6",
            "gridcolor": "white",
            "gridwidth": 2,
            "linecolor": "white",
            "showbackground": true,
            "ticks": "",
            "zerolinecolor": "white"
           }
          },
          "shapedefaults": {
           "line": {
            "color": "#2a3f5f"
           }
          },
          "ternary": {
           "aaxis": {
            "gridcolor": "white",
            "linecolor": "white",
            "ticks": ""
           },
           "baxis": {
            "gridcolor": "white",
            "linecolor": "white",
            "ticks": ""
           },
           "bgcolor": "#E5ECF6",
           "caxis": {
            "gridcolor": "white",
            "linecolor": "white",
            "ticks": ""
           }
          },
          "title": {
           "x": 0.05
          },
          "xaxis": {
           "automargin": true,
           "gridcolor": "white",
           "linecolor": "white",
           "ticks": "",
           "title": {
            "standoff": 15
           },
           "zerolinecolor": "white",
           "zerolinewidth": 2
          },
          "yaxis": {
           "automargin": true,
           "gridcolor": "white",
           "linecolor": "white",
           "ticks": "",
           "title": {
            "standoff": 15
           },
           "zerolinecolor": "white",
           "zerolinewidth": 2
          }
         }
        }
       }
      }
     },
     "metadata": {},
     "output_type": "display_data"
    }
   ],
   "source": [
    "# count the registered nursing house amount by reviewing the CMS certificate number\n",
    "CCN_count = fliter_sn.groupby('State')[['CMS Certification Number (CCN)']].nunique().sort_values(by='CMS Certification Number (CCN)',ascending=False)\n",
    "\n",
    "# reset index for creating the plot\n",
    "CCN_count = CCN_count.reset_index()\n",
    "\n",
    "\n",
    "# create a heatmap for readability\n",
    "import plotly.express as px\n",
    "\n",
    "fig=px.choropleth(CCN_count,\n",
    "                  locations='State',\n",
    "                  locationmode='USA-states',\n",
    "                  color='CMS Certification Number (CCN)',\n",
    "                  scope='usa',\n",
    "                  color_continuous_scale='tempo',\n",
    "                  hover_name='State')\n",
    "\n",
    "# Set up layout\n",
    "fig.update_layout(\n",
    "    coloraxis_colorbar=dict(\n",
    "        title='CCN Number',\n",
    "        thickness=12,\n",
    "        len=0.5,\n",
    "        x=1.05,          # Horizontal position (move right of the plot)\n",
    "        xanchor='left',  # Position anchor\n",
    "        y=0.85,           # Vertical position\n",
    "        yanchor='top' # Position anchor        \n",
    "    )\n",
    "    \n",
    "    \n",
    ")\n",
    "\n",
    "fig.show()\n",
    "\n",
    "# In this heatmap, we could zoom-in/zoom-out by scrolling, drag to move around.\n",
    "# When hover, the number of institutions and states name would show\n"
   ]
  },
  {
   "cell_type": "code",
   "execution_count": 171,
   "metadata": {},
   "outputs": [
    {
     "data": {
      "image/png": "[encoded data removed]",
      "text/plain": [
       "<Figure size 1000x600 with 1 Axes>"
      ]
     },
     "metadata": {},
     "output_type": "display_data"
    }
   ],
   "source": [
    "# analysis the nurse type and workhours located in Texas, Ohio, and Indiana\n",
    "TOI = ['TX', 'OH', 'IN']\n",
    "worker_type = ['Hrs_RNDON_ctr','Hrs_RNadmin_ctr','Hrs_RN_ctr','Hrs_LPNadmin_ctr','Hrs_LPN_ctr','Hrs_CNA_ctr','Hrs_NAtrn_ctr','Hrs_MedAide_ctr'] # sort out the worker type \n",
    "MNN_df = df[df['STATE'].isin(TOI)] # narrow down to only 3 states\n",
    "MNN_df = MNN_df.groupby('STATE')[worker_type].sum().sort_values(by=worker_type, ascending=True) # order by work hours value\n",
    "\n",
    "ax = MNN_df.plot(kind='bar',stacked=True,figsize=(10,6))\n",
    "plt.xticks(rotation=45)\n",
    "\n",
    "# add an center label for readablility\n",
    "for p in ax.patches:\n",
    "    height = p.get_height()\n",
    "    if height > 1000:  # flitering out the none/small valuer\n",
    "        ax.text(p.get_x() + p.get_width()/2., p.get_y() +height /2.,\n",
    "                f'{int(height)}', ha='center', va='center', color='white', fontsize=12)\n",
    "        # get_x : center the label text\n",
    "        # get_y : center the label text to the middle of each bar\n",
    "        \n"
   ]
  }
 ],
 "metadata": {
  "kernelspec": {
   "display_name": "Python 3",
   "language": "python",
   "name": "python3"
  },
  "language_info": {
   "codemirror_mode": {
    "name": "ipython",
    "version": 3
   },
   "file_extension": ".py",
   "mimetype": "text/x-python",
   "name": "python",
   "nbconvert_exporter": "python",
   "pygments_lexer": "ipython3",
   "version": "3.12.0"
  }
 },
 "nbformat": 4,
 "nbformat_minor": 2
}
